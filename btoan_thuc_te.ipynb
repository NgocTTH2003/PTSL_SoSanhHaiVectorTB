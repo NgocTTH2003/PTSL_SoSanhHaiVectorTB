{
 "cells": [
  {
   "cell_type": "code",
   "execution_count": 64,
   "metadata": {},
   "outputs": [],
   "source": [
    "import pandas as pd\n",
    "import os\n",
    "import pandas as pd\n",
    "import matplotlib.pyplot as plt\n",
    "import seaborn as sns\n",
    "import plotly.express as px\n",
    "import scipy\n",
    "from scipy import stats\n",
    "import statsmodels.api as sm\n",
    "import numpy as np"
   ]
  },
  {
   "cell_type": "code",
   "execution_count": 65,
   "metadata": {},
   "outputs": [
    {
     "data": {
      "text/html": [
       "<div>\n",
       "<style scoped>\n",
       "    .dataframe tbody tr th:only-of-type {\n",
       "        vertical-align: middle;\n",
       "    }\n",
       "\n",
       "    .dataframe tbody tr th {\n",
       "        vertical-align: top;\n",
       "    }\n",
       "\n",
       "    .dataframe thead th {\n",
       "        text-align: right;\n",
       "    }\n",
       "</style>\n",
       "<table border=\"1\" class=\"dataframe\">\n",
       "  <thead>\n",
       "    <tr style=\"text-align: right;\">\n",
       "      <th></th>\n",
       "      <th>Unnamed: 0</th>\n",
       "      <th>Gender</th>\n",
       "      <th>EthnicGroup</th>\n",
       "      <th>ParentEduc</th>\n",
       "      <th>LunchType</th>\n",
       "      <th>TestPrep</th>\n",
       "      <th>MathScore</th>\n",
       "      <th>ReadingScore</th>\n",
       "      <th>WritingScore</th>\n",
       "    </tr>\n",
       "  </thead>\n",
       "  <tbody>\n",
       "    <tr>\n",
       "      <th>0</th>\n",
       "      <td>0</td>\n",
       "      <td>female</td>\n",
       "      <td>group B</td>\n",
       "      <td>bachelor's degree</td>\n",
       "      <td>standard</td>\n",
       "      <td>none</td>\n",
       "      <td>72</td>\n",
       "      <td>72</td>\n",
       "      <td>74</td>\n",
       "    </tr>\n",
       "    <tr>\n",
       "      <th>1</th>\n",
       "      <td>1</td>\n",
       "      <td>female</td>\n",
       "      <td>group C</td>\n",
       "      <td>some college</td>\n",
       "      <td>standard</td>\n",
       "      <td>completed</td>\n",
       "      <td>69</td>\n",
       "      <td>90</td>\n",
       "      <td>88</td>\n",
       "    </tr>\n",
       "    <tr>\n",
       "      <th>2</th>\n",
       "      <td>2</td>\n",
       "      <td>female</td>\n",
       "      <td>group B</td>\n",
       "      <td>master's degree</td>\n",
       "      <td>standard</td>\n",
       "      <td>none</td>\n",
       "      <td>90</td>\n",
       "      <td>95</td>\n",
       "      <td>93</td>\n",
       "    </tr>\n",
       "    <tr>\n",
       "      <th>3</th>\n",
       "      <td>3</td>\n",
       "      <td>male</td>\n",
       "      <td>group A</td>\n",
       "      <td>associate's degree</td>\n",
       "      <td>free/reduced</td>\n",
       "      <td>none</td>\n",
       "      <td>47</td>\n",
       "      <td>57</td>\n",
       "      <td>44</td>\n",
       "    </tr>\n",
       "    <tr>\n",
       "      <th>4</th>\n",
       "      <td>4</td>\n",
       "      <td>male</td>\n",
       "      <td>group C</td>\n",
       "      <td>some college</td>\n",
       "      <td>standard</td>\n",
       "      <td>none</td>\n",
       "      <td>76</td>\n",
       "      <td>78</td>\n",
       "      <td>75</td>\n",
       "    </tr>\n",
       "    <tr>\n",
       "      <th>...</th>\n",
       "      <td>...</td>\n",
       "      <td>...</td>\n",
       "      <td>...</td>\n",
       "      <td>...</td>\n",
       "      <td>...</td>\n",
       "      <td>...</td>\n",
       "      <td>...</td>\n",
       "      <td>...</td>\n",
       "      <td>...</td>\n",
       "    </tr>\n",
       "    <tr>\n",
       "      <th>495</th>\n",
       "      <td>495</td>\n",
       "      <td>male</td>\n",
       "      <td>group D</td>\n",
       "      <td>high school</td>\n",
       "      <td>standard</td>\n",
       "      <td>completed</td>\n",
       "      <td>68</td>\n",
       "      <td>64</td>\n",
       "      <td>66</td>\n",
       "    </tr>\n",
       "    <tr>\n",
       "      <th>496</th>\n",
       "      <td>496</td>\n",
       "      <td>female</td>\n",
       "      <td>group C</td>\n",
       "      <td>some college</td>\n",
       "      <td>standard</td>\n",
       "      <td>none</td>\n",
       "      <td>54</td>\n",
       "      <td>48</td>\n",
       "      <td>52</td>\n",
       "    </tr>\n",
       "    <tr>\n",
       "      <th>497</th>\n",
       "      <td>497</td>\n",
       "      <td>female</td>\n",
       "      <td>group D</td>\n",
       "      <td>some college</td>\n",
       "      <td>free/reduced</td>\n",
       "      <td>completed</td>\n",
       "      <td>59</td>\n",
       "      <td>78</td>\n",
       "      <td>76</td>\n",
       "    </tr>\n",
       "    <tr>\n",
       "      <th>498</th>\n",
       "      <td>498</td>\n",
       "      <td>female</td>\n",
       "      <td>group B</td>\n",
       "      <td>some high school</td>\n",
       "      <td>standard</td>\n",
       "      <td>none</td>\n",
       "      <td>66</td>\n",
       "      <td>69</td>\n",
       "      <td>68</td>\n",
       "    </tr>\n",
       "    <tr>\n",
       "      <th>499</th>\n",
       "      <td>499</td>\n",
       "      <td>male</td>\n",
       "      <td>group E</td>\n",
       "      <td>some college</td>\n",
       "      <td>standard</td>\n",
       "      <td>none</td>\n",
       "      <td>76</td>\n",
       "      <td>71</td>\n",
       "      <td>72</td>\n",
       "    </tr>\n",
       "  </tbody>\n",
       "</table>\n",
       "<p>500 rows × 9 columns</p>\n",
       "</div>"
      ],
      "text/plain": [
       "     Unnamed: 0  Gender EthnicGroup          ParentEduc     LunchType  \\\n",
       "0             0  female     group B   bachelor's degree      standard   \n",
       "1             1  female     group C        some college      standard   \n",
       "2             2  female     group B     master's degree      standard   \n",
       "3             3    male     group A  associate's degree  free/reduced   \n",
       "4             4    male     group C        some college      standard   \n",
       "..          ...     ...         ...                 ...           ...   \n",
       "495         495    male     group D         high school      standard   \n",
       "496         496  female     group C        some college      standard   \n",
       "497         497  female     group D        some college  free/reduced   \n",
       "498         498  female     group B    some high school      standard   \n",
       "499         499    male     group E        some college      standard   \n",
       "\n",
       "      TestPrep  MathScore  ReadingScore  WritingScore  \n",
       "0         none         72            72            74  \n",
       "1    completed         69            90            88  \n",
       "2         none         90            95            93  \n",
       "3         none         47            57            44  \n",
       "4         none         76            78            75  \n",
       "..         ...        ...           ...           ...  \n",
       "495  completed         68            64            66  \n",
       "496       none         54            48            52  \n",
       "497  completed         59            78            76  \n",
       "498       none         66            69            68  \n",
       "499       none         76            71            72  \n",
       "\n",
       "[500 rows x 9 columns]"
      ]
     },
     "execution_count": 65,
     "metadata": {},
     "output_type": "execute_result"
    }
   ],
   "source": [
    "file_path = 'Original_data_with_more_rows.csv'\n",
    "data = pd.read_csv(file_path,nrows=500)\n",
    "data"
   ]
  },
  {
   "cell_type": "code",
   "execution_count": 66,
   "metadata": {},
   "outputs": [
    {
     "name": "stdout",
     "output_type": "stream",
     "text": [
      "Kích thước bộ dữ liệu đầu vào: 1.74 MB\n"
     ]
    }
   ],
   "source": [
    "size = os.path.getsize(file_path)\n",
    "size_mb = size/(1024 ** 2)\n",
    "print(f'Kích thước bộ dữ liệu đầu vào: {size_mb:.2f} MB')"
   ]
  },
  {
   "cell_type": "code",
   "execution_count": 67,
   "metadata": {},
   "outputs": [
    {
     "name": "stdout",
     "output_type": "stream",
     "text": [
      "<class 'pandas.core.frame.DataFrame'>\n",
      "RangeIndex: 500 entries, 0 to 499\n",
      "Data columns (total 9 columns):\n",
      " #   Column        Non-Null Count  Dtype \n",
      "---  ------        --------------  ----- \n",
      " 0   Unnamed: 0    500 non-null    int64 \n",
      " 1   Gender        500 non-null    object\n",
      " 2   EthnicGroup   500 non-null    object\n",
      " 3   ParentEduc    500 non-null    object\n",
      " 4   LunchType     500 non-null    object\n",
      " 5   TestPrep      500 non-null    object\n",
      " 6   MathScore     500 non-null    int64 \n",
      " 7   ReadingScore  500 non-null    int64 \n",
      " 8   WritingScore  500 non-null    int64 \n",
      "dtypes: int64(4), object(5)\n",
      "memory usage: 35.3+ KB\n"
     ]
    }
   ],
   "source": [
    "data.info()"
   ]
  },
  {
   "cell_type": "markdown",
   "metadata": {},
   "source": [
    "### Thông tin trường dữ liệu\n",
    "\n",
    "- Gender: Giới tính của học sinh (female - nữ, male - nam).\n",
    "- Race/Ethnicity: Nhóm chủng tộc/ dân tộc mà học sinh thuộc về, được phân thành các nhóm từ A đến C (ví dụ: group B, group C).\n",
    "- Parental Level of Education: Trình độ học vấn của phụ huynh, có thể là: bachelor's degree (cử nhân), some college (đang học đại học), master’s degree (thạc sĩ), associate’s degree (cao đẳng).\n",
    "- Lunch: Loại bữa trưa mà học sinh được nhận, phân thành hai loại: standard (tiêu chuẩn) và free/reduced (miễn phí/giảm giá).\n",
    "- Test Preparation Course: Tình trạng tham gia khóa học chuẩn bị kiểm tra của học sinh, có thể là: completed (đã hoàn thành) hoặc none (không tham gia).\n",
    "- Math Score: Điểm số môn Toán.\n",
    "- Reading Score: Điểm số môn Đọc hiểu.\n",
    "- Writing Score: Điểm số môn Viết."
   ]
  },
  {
   "cell_type": "code",
   "execution_count": 68,
   "metadata": {},
   "outputs": [
    {
     "ename": "ValueError",
     "evalue": "Mime type rendering requires nbformat>=4.2.0 but it is not installed",
     "output_type": "error",
     "traceback": [
      "\u001b[1;31m---------------------------------------------------------------------------\u001b[0m",
      "\u001b[1;31mValueError\u001b[0m                                Traceback (most recent call last)",
      "Cell \u001b[1;32mIn[68], line 3\u001b[0m\n\u001b[0;32m      1\u001b[0m \u001b[38;5;66;03m#df = data[~((data['Gender'] == 'female') & (data['MathScore'].isin([0])))]\u001b[39;00m\n\u001b[0;32m      2\u001b[0m fig \u001b[38;5;241m=\u001b[39m px\u001b[38;5;241m.\u001b[39mbox(data, x\u001b[38;5;241m=\u001b[39m\u001b[38;5;124m'\u001b[39m\u001b[38;5;124mGender\u001b[39m\u001b[38;5;124m'\u001b[39m, y\u001b[38;5;241m=\u001b[39m\u001b[38;5;124m'\u001b[39m\u001b[38;5;124mMathScore\u001b[39m\u001b[38;5;124m'\u001b[39m, title\u001b[38;5;241m=\u001b[39m\u001b[38;5;124m'\u001b[39m\u001b[38;5;124mInteractive Boxplot\u001b[39m\u001b[38;5;124m'\u001b[39m)\n\u001b[1;32m----> 3\u001b[0m \u001b[43mfig\u001b[49m\u001b[38;5;241;43m.\u001b[39;49m\u001b[43mshow\u001b[49m\u001b[43m(\u001b[49m\u001b[43m)\u001b[49m\n",
      "File \u001b[1;32mc:\\Users\\Admin\\AppData\\Local\\Programs\\Python\\Python312\\Lib\\site-packages\\plotly\\basedatatypes.py:3410\u001b[0m, in \u001b[0;36mBaseFigure.show\u001b[1;34m(self, *args, **kwargs)\u001b[0m\n\u001b[0;32m   3377\u001b[0m \u001b[38;5;250m\u001b[39m\u001b[38;5;124;03m\"\"\"\u001b[39;00m\n\u001b[0;32m   3378\u001b[0m \u001b[38;5;124;03mShow a figure using either the default renderer(s) or the renderer(s)\u001b[39;00m\n\u001b[0;32m   3379\u001b[0m \u001b[38;5;124;03mspecified by the renderer argument\u001b[39;00m\n\u001b[1;32m   (...)\u001b[0m\n\u001b[0;32m   3406\u001b[0m \u001b[38;5;124;03mNone\u001b[39;00m\n\u001b[0;32m   3407\u001b[0m \u001b[38;5;124;03m\"\"\"\u001b[39;00m\n\u001b[0;32m   3408\u001b[0m \u001b[38;5;28;01mimport\u001b[39;00m \u001b[38;5;21;01mplotly\u001b[39;00m\u001b[38;5;21;01m.\u001b[39;00m\u001b[38;5;21;01mio\u001b[39;00m \u001b[38;5;28;01mas\u001b[39;00m \u001b[38;5;21;01mpio\u001b[39;00m\n\u001b[1;32m-> 3410\u001b[0m \u001b[38;5;28;01mreturn\u001b[39;00m \u001b[43mpio\u001b[49m\u001b[38;5;241;43m.\u001b[39;49m\u001b[43mshow\u001b[49m\u001b[43m(\u001b[49m\u001b[38;5;28;43mself\u001b[39;49m\u001b[43m,\u001b[49m\u001b[43m \u001b[49m\u001b[38;5;241;43m*\u001b[39;49m\u001b[43margs\u001b[49m\u001b[43m,\u001b[49m\u001b[43m \u001b[49m\u001b[38;5;241;43m*\u001b[39;49m\u001b[38;5;241;43m*\u001b[39;49m\u001b[43mkwargs\u001b[49m\u001b[43m)\u001b[49m\n",
      "File \u001b[1;32mc:\\Users\\Admin\\AppData\\Local\\Programs\\Python\\Python312\\Lib\\site-packages\\plotly\\io\\_renderers.py:394\u001b[0m, in \u001b[0;36mshow\u001b[1;34m(fig, renderer, validate, **kwargs)\u001b[0m\n\u001b[0;32m    389\u001b[0m         \u001b[38;5;28;01mraise\u001b[39;00m \u001b[38;5;167;01mValueError\u001b[39;00m(\n\u001b[0;32m    390\u001b[0m             \u001b[38;5;124m\"\u001b[39m\u001b[38;5;124mMime type rendering requires ipython but it is not installed\u001b[39m\u001b[38;5;124m\"\u001b[39m\n\u001b[0;32m    391\u001b[0m         )\n\u001b[0;32m    393\u001b[0m     \u001b[38;5;28;01mif\u001b[39;00m \u001b[38;5;129;01mnot\u001b[39;00m nbformat \u001b[38;5;129;01mor\u001b[39;00m Version(nbformat\u001b[38;5;241m.\u001b[39m__version__) \u001b[38;5;241m<\u001b[39m Version(\u001b[38;5;124m\"\u001b[39m\u001b[38;5;124m4.2.0\u001b[39m\u001b[38;5;124m\"\u001b[39m):\n\u001b[1;32m--> 394\u001b[0m         \u001b[38;5;28;01mraise\u001b[39;00m \u001b[38;5;167;01mValueError\u001b[39;00m(\n\u001b[0;32m    395\u001b[0m             \u001b[38;5;124m\"\u001b[39m\u001b[38;5;124mMime type rendering requires nbformat>=4.2.0 but it is not installed\u001b[39m\u001b[38;5;124m\"\u001b[39m\n\u001b[0;32m    396\u001b[0m         )\n\u001b[0;32m    398\u001b[0m     ipython_display\u001b[38;5;241m.\u001b[39mdisplay(bundle, raw\u001b[38;5;241m=\u001b[39m\u001b[38;5;28;01mTrue\u001b[39;00m)\n\u001b[0;32m    400\u001b[0m \u001b[38;5;66;03m# external renderers\u001b[39;00m\n",
      "\u001b[1;31mValueError\u001b[0m: Mime type rendering requires nbformat>=4.2.0 but it is not installed"
     ]
    }
   ],
   "source": [
    "#df = data[~((data['Gender'] == 'female') & (data['MathScore'].isin([0])))]\n",
    "fig = px.box(data, x='Gender', y='MathScore', title='Interactive Boxplot')\n",
    "fig.show()"
   ]
  },
  {
   "cell_type": "markdown",
   "metadata": {},
   "source": [
    "### Đánh giá tính chuẩn của phân phối điểm môn Toán cho các học sinh"
   ]
  },
  {
   "cell_type": "code",
   "execution_count": null,
   "metadata": {},
   "outputs": [],
   "source": [
    "Math_Male = data['MathScore'][data['Gender'] == 'male']\n",
    "Math_Female = data['MathScore'][data['Gender'] == 'female']\n",
    "\n",
    "# Hiển thị kết quả shapiro test\n",
    "shapiro_test1 = stats.shapiro(Math_Male)\n",
    "print(f'Math_Male: {shapiro_test1}')\n",
    "\n",
    "shapiro_test2 = stats.shapiro(Math_Female)\n",
    "print(f'Math_Female: {shapiro_test2}')"
   ]
  },
  {
   "cell_type": "markdown",
   "metadata": {},
   "source": [
    "Kết luận:\n",
    "- 0.076 > 0.05 --> Điều này cho thấy không có bằng chứng để bác bỏ giả thuyết không với mức ý nghĩa 0.05, tức là điểm Toán của học sinh nam có thể được coi là tuân theo phân phối chuẩn.\n",
    "- 0.009 < 0.05> --> Điều này cho thấy có bằng chứng để bác bỏ giả thuyết không với mức ý nghĩa 0.05, tức là điểm Toán của học sinh nữ không tuân theo phân phối chuẩn."
   ]
  },
  {
   "cell_type": "markdown",
   "metadata": {},
   "source": [
    "shapiro-wilk\n",
    "- giá trị thống kê đo lường mức độ tương đồng giữa phân phối của mẫu dữ liệu với phân phối chuẩn\n",
    "- giá trị thống kê càng gần 1 thì mẫu dữ liệu càng có xu hướng phân phối chuẩn\n",
    "- p-value dùng để xác định xem có thể bác bỏ giải thuyết không (ở mức ý nghĩa 0.05), trong phân phối này H0 : \"mẫu dữ liệu có là phân phối chuẩn\"\n",
    "- p-value > 0.05 --> ko có đủ bằng chứng để bác bỏ\n",
    "- p-value < 0.05 --> bác bỏ giả thuyết"
   ]
  },
  {
   "cell_type": "code",
   "execution_count": null,
   "metadata": {},
   "outputs": [],
   "source": [
    "# Tạo QQ plot cho dữ liệu Math_Male\n",
    "fig1 = sm.qqplot(Math_Male, line='q')\n",
    "plt.setp(fig1.gca().lines, markersize=3, color='black')\n",
    "plt.title('QQ Plot for AMath_Male')\n",
    "plt.show()\n",
    "\n",
    "# Tạo QQ plot cho dữ liệu Math_Female\n",
    "fig2 = sm.qqplot(Math_Female, line='q')\n",
    "plt.setp(fig2.gca().lines, markersize=3, color='black')\n",
    "plt.title('QQ Plot for Math_Female')\n",
    "plt.show()"
   ]
  },
  {
   "cell_type": "markdown",
   "metadata": {},
   "source": [
    "biểu đồ Q-Q:\n",
    "- dữ liệu có phù hợp với phân phối chuẩn hay không, thông qua việc so sánh phần trăm của dữ liệu với các phần trăm tương ứng của phân phối chuẩn\n",
    "- Nếu các điểm tập trung gần 1 đường thẳng thì cho thấy dữ liệu có thể phân bố tương tự như phân phối chuẩn."
   ]
  },
  {
   "cell_type": "code",
   "execution_count": null,
   "metadata": {},
   "outputs": [],
   "source": [
    "df = data[~((data['Gender'] == 'female') & (data['MathScore'].isin([0])))]\n",
    "Math_Male = df['MathScore'][df['Gender'] == 'male']\n",
    "Math_Female = df['MathScore'][df['Gender'] == 'female']\n",
    "\n",
    "# Hiển thị kết quả shapiro test\n",
    "shapiro_test1 = stats.shapiro(Math_Male)\n",
    "print(f'Math_Male: {shapiro_test1}')\n",
    "\n",
    "shapiro_test2 = stats.shapiro(Math_Female)\n",
    "print(f'Math_Female: {shapiro_test2}')"
   ]
  },
  {
   "cell_type": "markdown",
   "metadata": {},
   "source": [
    "# So sánh phương sai của hai nhóm"
   ]
  },
  {
   "cell_type": "code",
   "execution_count": null,
   "metadata": {},
   "outputs": [],
   "source": [
    "# Tính toán phương sai của hai nhóm\n",
    "var_math_male = Math_Male.var(ddof=1)\n",
    "var_math_female = Math_Female.var(ddof=1)\n",
    "\n",
    "# Tính giá trị F (tỉ số phương sai)\n",
    "F = var_math_male / var_math_female\n",
    "# xét xem 2 phương sai có bằng nhau không\n",
    "\n",
    "# Tính bậc tự do (degrees of freedom) cho hai nhóm\n",
    "df_num = len(Math_Male) - 1\n",
    "df_denom = len(Math_Female) - 1\n",
    "\n",
    "# Tính p-value sử dụng phân phối F\n",
    "p_value = stats.f.cdf(F, df_num, df_denom)\n",
    "\n",
    "# Kiểm tra giá trị p-value\n",
    "if p_value > 0.5: # điều chỉnh p-value cho kiểm định hai phía\n",
    "    p_value = 1 - p_value\n",
    "\n",
    "# Nhân đôi p-value vì đây là kiểm định hai phía\n",
    "p_value = 2 * p_value\n",
    "\n",
    "# Tính khoảng tin cậy 95% cho tỉ số phương sai\n",
    "ci_lower = F / stats.f.ppf(0.975, df_num, df_denom)\n",
    "ci_upper = F / stats.f.ppf(0.025, df_num, df_denom)\n",
    "\n",
    "# Hiển thị kết quả\n",
    "print('PHƯƠNG SAI :')\n",
    "print(f\"Giá trị thống kê F: {F}\")\n",
    "print(f\"Bậc tự do của nhóm nam (tử số): {df_num}\")\n",
    "print(f\"Bậc tự do của nhóm nữ (mẫu số): {df_denom}\")\n",
    "print(f\"p-value: {p_value}\")\n",
    "print(f\"Khoảng tin cậy 95% cho tỷ số phương sai: ({ci_lower}, {ci_upper})\")"
   ]
  },
  {
   "cell_type": "markdown",
   "metadata": {},
   "source": [
    "- Thống kê F test để kiểm tra xem hai nhóm có phương sai bằng nhau không\n",
    "- kết quả p-value > 0.05 --> không có đủ bằng chứng để bác bỏ giả thuyết --> tức là phương sai của điểm số Toán giữa hai nhóm nam và nữ có thể được xem là bằng nhau."
   ]
  },
  {
   "cell_type": "code",
   "execution_count": null,
   "metadata": {},
   "outputs": [],
   "source": [
    "# Thực hiện kiểm định H0 với giả định ma trận hiệp phương sai bằng nhau\n",
    "# Tính trung bình của hai nhóm\n",
    "mean_male = Math_Male.mean()\n",
    "mean_female = Math_Female.mean()\n",
    "mean_diff = mean_female - mean_male\n",
    "# Kích thước mẫu của hai nhóm\n",
    "n1 = len(Math_Male)\n",
    "n2 = len(Math_Female)\n",
    "\n",
    "# Phương sai tổng hợp\n",
    "pooled_var = ((n1 - 1) * np.var(Math_Male, ddof=1) + (n2 - 1) * np.var(Math_Female, ddof=1)) / (n1 + n2 - 2)\n",
    "\n",
    "# Giá trị c^2 từ phân phối F\n",
    "p = 1 # Dữ liệu 1 chiều\n",
    "f_critical = stats.f.ppf(1 - 0.05, p, n1 + n2 - p - 1)\n",
    "c_squared = ((n1 + n2 - 2) * p / (n1 + n2 - p - 1)) * f_critical\n",
    "\n",
    "# Tìm khoảng tin cậy 95%\n",
    "x = np.sqrt((1/n1 + 1/n2)*pooled_var)\n",
    "confidence_interval = [mean_diff - np.sqrt(c_squared)*x, mean_diff + np.sqrt(c_squared)*x]\n",
    "\n",
    "# Hiển thị kết quả\n",
    "print('TRUNG BÌNH :')\n",
    "print(f\"Trung bình của nhóm Nam: {mean_male}\")\n",
    "print(f\"Trung bình của nhóm Nữ: {mean_female}\")\n",
    "print(f\"Khoảng tin cậy cho sự khác biệt trung bình: {confidence_interval}\")"
   ]
  }
 ],
 "metadata": {
  "kernelspec": {
   "display_name": "Python 3",
   "language": "python",
   "name": "python3"
  },
  "language_info": {
   "codemirror_mode": {
    "name": "ipython",
    "version": 3
   },
   "file_extension": ".py",
   "mimetype": "text/x-python",
   "name": "python",
   "nbconvert_exporter": "python",
   "pygments_lexer": "ipython3",
   "version": "3.12.7"
  }
 },
 "nbformat": 4,
 "nbformat_minor": 2
}
